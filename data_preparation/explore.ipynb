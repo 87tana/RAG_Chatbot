{
 "cells": [
  {
   "cell_type": "code",
   "execution_count": 1,
   "id": "ef31c561",
   "metadata": {},
   "outputs": [],
   "source": [
    "import pandas as pd"
   ]
  },
  {
   "cell_type": "code",
   "execution_count": 2,
   "id": "230bc67c",
   "metadata": {},
   "outputs": [
    {
     "data": {
      "text/html": [
       "<div>\n",
       "<style scoped>\n",
       "    .dataframe tbody tr th:only-of-type {\n",
       "        vertical-align: middle;\n",
       "    }\n",
       "\n",
       "    .dataframe tbody tr th {\n",
       "        vertical-align: top;\n",
       "    }\n",
       "\n",
       "    .dataframe thead th {\n",
       "        text-align: right;\n",
       "    }\n",
       "</style>\n",
       "<table border=\"1\" class=\"dataframe\">\n",
       "  <thead>\n",
       "    <tr style=\"text-align: right;\">\n",
       "      <th></th>\n",
       "      <th>Category (incl. context and answer)</th>\n",
       "      <th>Description</th>\n",
       "      <th>Answer Format</th>\n",
       "      <th>Group</th>\n",
       "    </tr>\n",
       "  </thead>\n",
       "  <tbody>\n",
       "    <tr>\n",
       "      <th>0</th>\n",
       "      <td>Category: Document Name</td>\n",
       "      <td>Description: The name of the contract</td>\n",
       "      <td>Answer Format: Contract Name</td>\n",
       "      <td>Group: -</td>\n",
       "    </tr>\n",
       "    <tr>\n",
       "      <th>1</th>\n",
       "      <td>Category: Parties</td>\n",
       "      <td>Description: The two or more parties who signe...</td>\n",
       "      <td>Answer Format: Entity or individual names</td>\n",
       "      <td>Group: -</td>\n",
       "    </tr>\n",
       "    <tr>\n",
       "      <th>2</th>\n",
       "      <td>Category: Agreement Date</td>\n",
       "      <td>Description: The date of the contract</td>\n",
       "      <td>Answer Format: Date (mm/dd/yyyy)</td>\n",
       "      <td>Group: 1</td>\n",
       "    </tr>\n",
       "    <tr>\n",
       "      <th>3</th>\n",
       "      <td>Category: Effective Date</td>\n",
       "      <td>Description: The date when the contract is eff...</td>\n",
       "      <td>Answer Format: Date (mm/dd/yyyy)</td>\n",
       "      <td>Group: 1</td>\n",
       "    </tr>\n",
       "    <tr>\n",
       "      <th>4</th>\n",
       "      <td>Category: Expiration Date</td>\n",
       "      <td>Description: On what date will the contract's ...</td>\n",
       "      <td>Answer Format: Date (mm/dd/yyyy) / Perpetual</td>\n",
       "      <td>Group: 1</td>\n",
       "    </tr>\n",
       "  </tbody>\n",
       "</table>\n",
       "</div>"
      ],
      "text/plain": [
       "  Category (incl. context and answer)  \\\n",
       "0             Category: Document Name   \n",
       "1                   Category: Parties   \n",
       "2            Category: Agreement Date   \n",
       "3            Category: Effective Date   \n",
       "4           Category: Expiration Date   \n",
       "\n",
       "                                         Description  \\\n",
       "0              Description: The name of the contract   \n",
       "1  Description: The two or more parties who signe...   \n",
       "2              Description: The date of the contract   \n",
       "3  Description: The date when the contract is eff...   \n",
       "4  Description: On what date will the contract's ...   \n",
       "\n",
       "                                  Answer Format     Group  \n",
       "0                  Answer Format: Contract Name  Group: -  \n",
       "1     Answer Format: Entity or individual names  Group: -  \n",
       "2              Answer Format: Date (mm/dd/yyyy)  Group: 1  \n",
       "3              Answer Format: Date (mm/dd/yyyy)  Group: 1  \n",
       "4  Answer Format: Date (mm/dd/yyyy) / Perpetual  Group: 1  "
      ]
     },
     "execution_count": 2,
     "metadata": {},
     "output_type": "execute_result"
    }
   ],
   "source": [
    "df = pd.read_csv('data/category_descriptions.csv')\n",
    "df.head()"
   ]
  },
  {
   "cell_type": "code",
   "execution_count": 3,
   "id": "99b8ccab",
   "metadata": {},
   "outputs": [
    {
     "name": "stdout",
     "output_type": "stream",
     "text": [
      "(41, 4)\n"
     ]
    }
   ],
   "source": [
    "print(df.shape)"
   ]
  },
  {
   "cell_type": "code",
   "execution_count": 4,
   "id": "38b2f6e4",
   "metadata": {},
   "outputs": [
    {
     "name": "stdout",
     "output_type": "stream",
     "text": [
      "Category (incl. context and answer)    object\n",
      "Description                            object\n",
      "Answer Format                          object\n",
      "Group                                  object\n",
      "dtype: object\n"
     ]
    }
   ],
   "source": [
    "print(df.dtypes)"
   ]
  },
  {
   "cell_type": "code",
   "execution_count": 6,
   "id": "331f9129",
   "metadata": {},
   "outputs": [
    {
     "name": "stdout",
     "output_type": "stream",
     "text": [
      "Category (incl. context and answer)    0\n",
      "Description                            0\n",
      "Answer Format                          0\n",
      "Group                                  0\n",
      "dtype: int64\n"
     ]
    }
   ],
   "source": [
    "print(df.isna().sum())"
   ]
  },
  {
   "cell_type": "code",
   "execution_count": 8,
   "id": "3d275af4",
   "metadata": {},
   "outputs": [
    {
     "data": {
      "text/html": [
       "<div>\n",
       "<style scoped>\n",
       "    .dataframe tbody tr th:only-of-type {\n",
       "        vertical-align: middle;\n",
       "    }\n",
       "\n",
       "    .dataframe tbody tr th {\n",
       "        vertical-align: top;\n",
       "    }\n",
       "\n",
       "    .dataframe thead th {\n",
       "        text-align: right;\n",
       "    }\n",
       "</style>\n",
       "<table border=\"1\" class=\"dataframe\">\n",
       "  <thead>\n",
       "    <tr style=\"text-align: right;\">\n",
       "      <th></th>\n",
       "      <th>Invoice Number</th>\n",
       "      <th>Invoice Date</th>\n",
       "      <th>Customer Name</th>\n",
       "      <th>Item Description</th>\n",
       "      <th>Quantity</th>\n",
       "      <th>Unit Price</th>\n",
       "      <th>Due Date</th>\n",
       "      <th>Status</th>\n",
       "      <th>Total Amount</th>\n",
       "    </tr>\n",
       "  </thead>\n",
       "  <tbody>\n",
       "    <tr>\n",
       "      <th>0</th>\n",
       "      <td>INV-1000</td>\n",
       "      <td>2024-04-04</td>\n",
       "      <td>Epsilon Ltd</td>\n",
       "      <td>Service Fee #3</td>\n",
       "      <td>7</td>\n",
       "      <td>297.42</td>\n",
       "      <td>2024-05-04</td>\n",
       "      <td>Pending</td>\n",
       "      <td>2081.94</td>\n",
       "    </tr>\n",
       "    <tr>\n",
       "      <th>1</th>\n",
       "      <td>INV-1001</td>\n",
       "      <td>2024-09-05</td>\n",
       "      <td>Delta Co</td>\n",
       "      <td>Service Fee #1</td>\n",
       "      <td>4</td>\n",
       "      <td>332.91</td>\n",
       "      <td>2024-10-05</td>\n",
       "      <td>Unpaid</td>\n",
       "      <td>1331.64</td>\n",
       "    </tr>\n",
       "    <tr>\n",
       "      <th>2</th>\n",
       "      <td>INV-1002</td>\n",
       "      <td>2024-01-10</td>\n",
       "      <td>Epsilon Ltd</td>\n",
       "      <td>Service Fee #5</td>\n",
       "      <td>6</td>\n",
       "      <td>76.93</td>\n",
       "      <td>2024-02-09</td>\n",
       "      <td>Overdue</td>\n",
       "      <td>461.58</td>\n",
       "    </tr>\n",
       "    <tr>\n",
       "      <th>3</th>\n",
       "      <td>INV-1003</td>\n",
       "      <td>2024-05-31</td>\n",
       "      <td>Zeta Partners</td>\n",
       "      <td>Service Fee #2</td>\n",
       "      <td>7</td>\n",
       "      <td>236.11</td>\n",
       "      <td>2024-06-30</td>\n",
       "      <td>Overdue</td>\n",
       "      <td>1652.77</td>\n",
       "    </tr>\n",
       "    <tr>\n",
       "      <th>4</th>\n",
       "      <td>INV-1004</td>\n",
       "      <td>2024-12-18</td>\n",
       "      <td>Epsilon Ltd</td>\n",
       "      <td>Service Fee #2</td>\n",
       "      <td>3</td>\n",
       "      <td>109.49</td>\n",
       "      <td>2025-01-17</td>\n",
       "      <td>Unpaid</td>\n",
       "      <td>328.47</td>\n",
       "    </tr>\n",
       "  </tbody>\n",
       "</table>\n",
       "</div>"
      ],
      "text/plain": [
       "  Invoice Number Invoice Date  Customer Name Item Description  Quantity  \\\n",
       "0       INV-1000   2024-04-04    Epsilon Ltd   Service Fee #3         7   \n",
       "1       INV-1001   2024-09-05       Delta Co   Service Fee #1         4   \n",
       "2       INV-1002   2024-01-10    Epsilon Ltd   Service Fee #5         6   \n",
       "3       INV-1003   2024-05-31  Zeta Partners   Service Fee #2         7   \n",
       "4       INV-1004   2024-12-18    Epsilon Ltd   Service Fee #2         3   \n",
       "\n",
       "   Unit Price    Due Date   Status  Total Amount  \n",
       "0      297.42  2024-05-04  Pending       2081.94  \n",
       "1      332.91  2024-10-05   Unpaid       1331.64  \n",
       "2       76.93  2024-02-09  Overdue        461.58  \n",
       "3      236.11  2024-06-30  Overdue       1652.77  \n",
       "4      109.49  2025-01-17   Unpaid        328.47  "
      ]
     },
     "execution_count": 8,
     "metadata": {},
     "output_type": "execute_result"
    }
   ],
   "source": [
    "df = pd.read_csv('data/invoice_data.csv')\n",
    "df.head()"
   ]
  },
  {
   "cell_type": "code",
   "execution_count": 9,
   "id": "734b7e2a",
   "metadata": {},
   "outputs": [
    {
     "name": "stdout",
     "output_type": "stream",
     "text": [
      "(100, 9)\n"
     ]
    }
   ],
   "source": [
    "print(df.shape)"
   ]
  },
  {
   "cell_type": "code",
   "execution_count": 10,
   "id": "2471f6f8",
   "metadata": {},
   "outputs": [
    {
     "name": "stdout",
     "output_type": "stream",
     "text": [
      "Invoice Number       object\n",
      "Invoice Date         object\n",
      "Customer Name        object\n",
      "Item Description     object\n",
      "Quantity              int64\n",
      "Unit Price          float64\n",
      "Due Date             object\n",
      "Status               object\n",
      "Total Amount        float64\n",
      "dtype: object\n"
     ]
    }
   ],
   "source": [
    "print(df.dtypes)"
   ]
  },
  {
   "cell_type": "code",
   "execution_count": 11,
   "id": "39be3b28",
   "metadata": {},
   "outputs": [
    {
     "name": "stdout",
     "output_type": "stream",
     "text": [
      "Invoice Number      0\n",
      "Invoice Date        0\n",
      "Customer Name       0\n",
      "Item Description    0\n",
      "Quantity            0\n",
      "Unit Price          0\n",
      "Due Date            0\n",
      "Status              0\n",
      "Total Amount        0\n",
      "dtype: int64\n"
     ]
    }
   ],
   "source": [
    "print(df.isna().sum())"
   ]
  }
 ],
 "metadata": {
  "kernelspec": {
   "display_name": "base",
   "language": "python",
   "name": "python3"
  },
  "language_info": {
   "codemirror_mode": {
    "name": "ipython",
    "version": 3
   },
   "file_extension": ".py",
   "mimetype": "text/x-python",
   "name": "python",
   "nbconvert_exporter": "python",
   "pygments_lexer": "ipython3",
   "version": "3.11.5"
  }
 },
 "nbformat": 4,
 "nbformat_minor": 5
}
